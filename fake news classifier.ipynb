{
 "cells": [
  {
   "cell_type": "code",
   "execution_count": 1,
   "metadata": {},
   "outputs": [],
   "source": [
    "import os\n",
    "import numpy as np\n",
    "import pandas as pd\n",
    "os.chdir(\"C:\\Users\\User\\Downloads\")\n",
    "# Import the necessary modules\n",
    "from sklearn.feature_extraction.text import CountVectorizer\n",
    "from sklearn.model_selection import train_test_split"
   ]
  },
  {
   "cell_type": "code",
   "execution_count": 2,
   "metadata": {},
   "outputs": [],
   "source": [
    "df=pd.read_csv(\"fake_or_real_news.csv\")"
   ]
  },
  {
   "cell_type": "code",
   "execution_count": 35,
   "metadata": {},
   "outputs": [
    {
     "name": "stdout",
     "output_type": "stream",
     "text": [
      "[u'00', u'000', u'0000', u'00000031', u'000035', u'00006', u'0001', u'0001pt', u'000ft', u'000km', u'001', u'0011', u'002', u'003', u'004', u'006', u'006s', u'007', u'007s', u'008', u'008s', u'009', u'0099', u'00am', u'00p', u'00pm', u'01', u'010', u'013', u'014', u'015', u'016', u'018', u'01am', u'02', u'020', u'022', u'023', u'024', u'025', u'027', u'028', u'02welcome', u'03', u'031', u'032', u'0325', u'033', u'034', u'035', u'037', u'039', u'03eb', u'04', u'040', u'0400', u'042', u'044', u'048', u'049', u'04pm', u'05', u'0509245d29', u'052', u'056', u'06', u'062', u'066', u'068', u'06pm', u'07', u'0700', u'075', u'076', u'079', u'07dryempjx', u'08', u'080', u'081', u'082', u'084', u'089', u'0891', u'09', u'098263', u'09am', u'09pm', u'0_jgdktlmn', u'0a_merrill', u'0d', u'0fjjvowyhg8qtskiz', u'0h4at2yetra17uxetni02ls2jeg0mty45jrcu7mrzsrpcbq464i', u'0hq3vb2giv', u'0in', u'0jsn6pjkan', u'0oeekvljlt', u'0pt', u'0t5', u'0txrbwvobzz4fi5nksw6k5a6cxzbb3juxthmdiz93cby8gvrqiypzhajvjnt2', u'0womdwalmi', u'0x', u'10', u'100', u'1000', u'10009020', u'1000s', u'1001', u'10021', u'10028', u'100515p', u'100bn', u'100c', u'100k', u'100m', u'100percentfedup', u'100s', u'100th', u'101', u'1010359', u'1019', u'101st', u'102', u'1024026', u'1026', u'102816', u'102836002', u'102k', u'102m', u'103', u'1033', u'103rd', u'104', u'1040', u'104396002', u'104893', u'105', u'106', u'106116001', u'107', u'1070', u'107th', u'108', u'109', u'1095', u'1098', u'10bn', u'10ft', u'10kb', u'10m', u'10m54s', u'10mm', u'10pm', u'10th', u'10ths', u'10x', u'10yrs', u'11', u'110', u'1100', u'1101', u'110136001', u'1105', u'111', u'112', u'1121', u'112145924', u'1122930jg', u'112th', u'113', u'113bn', u'114', u'1146', u'114th', u'115', u'11540', u'115aug', u'115th', u'116', u'1160', u'117', u'11702', u'1176', u'118', u'1180', u'119', u'1190', u'11am', u'11cm', u'11mn', u'11pm', u'11th', u'11truther', u'12', u'120', u'1200', u'1207', u'121', u'122', u'1228', u'123', u'12333', u'123421', u'12345', u'124', u'125', u'1252', u'126', u'12619print', u'1265', u'127', u'127million', u'128', u'1280', u'1287', u'128th', u'129', u'12hdlgeeua87t2ju8m4tbro247yj5u2tvp', u'12k', u'12m', u'12mn', u'12pm', u'12sso1zj2bbdguiraddmamlnets7oc1', u'12th', u'13', u'130', u'1300', u'1301', u'1305', u'130500', u'131', u'132', u'133', u'134', u'135', u'135s', u'136', u'13603', u'1364', u'137', u'138', u'139', u'1393', u'13th', u'13y', u'13\\xbd', u'14', u'140', u'1400', u'1400s', u'140230', u'141', u'142', u'1425817301725', u'143', u'143m', u'144', u'14482302', u'145', u'146', u'1460', u'147', u'148', u'149', u'14k', u'14kwh', u'14m', u'14th', u'15', u'150', u'1500', u'1500s', u'150th', u'151', u'1513', u'1517', u'152', u'1521', u'1522', u'153', u'1538', u'1543', u'155', u'1552', u'1555', u'1559', u'156', u'1562', u'1563', u'1566', u'1569', u'157', u'1576', u'1578', u'158', u'1584', u'1588', u'15893', u'159', u'1591', u'15975445007', u'15e', u'15ft', u'15million', u'15mm', u'15pm', u'15s', u'15th', u'15yrs', u'16', u'160', u'1600', u'1600s', u'1605', u'1606', u'160716', u'161', u'1610', u'161029', u'162', u'1621', u'16236675004', u'1624575', u'162lvbnkan', u'163', u'164', u'165', u'1650', u'1652', u'166', u'167', u'168', u'1689', u'169', u'16bn', u'16k', u'16s', u'16th', u'17', u'170', u'1700', u'171', u'1711', u'172', u'1720', u'173', u'1730s', u'174', u'1745', u'175', u'1752', u'176', u'1763', u'1766', u'177', u'1770', u'1775', u'1776', u'1777', u'178', u'1780', u'1784', u'1786', u'1787', u'1788', u'1789', u'179', u'1790', u'1791', u'1793', u'1793qianlong', u'1795583', u'1797', u'1798', u'1799', u'17b2908f', u'17k', u'17s', u'17th', u'18', u'180', u'1800', u'1800s', u'1801', u'1804', u'1806', u'1808', u'1812', u'1814', u'1815', u'1816', u'1817', u'1818', u'182', u'1820', u'1820s', u'1823', u'1824', u'1825', u'1827', u'1829', u'182nd', u'183', u'1830', u'1830s', u'1831', u'1835', u'1837', u'1838', u'1839', u'184', u'1840', u'1840s', u'1841', u'1842', u'1844', u'1845', u'1846', u'1848', u'1849', u'185', u'1850', u'1850s', u'1851', u'1853', u'1854', u'1855', u'1856', u'1857', u'1858', u'1859', u'186', u'1860', u'1860s', u'1861', u'1862', u'1863', u'1864', u'1865', u'1868', u'187', u'1870', u'1870s', u'1871', u'1872', u'1873', u'1876', u'1877', u'1878', u'188', u'1880', u'1881', u'1883', u'1884', u'1885', u'1886', u'1887', u'189', u'1890', u'1890s', u'1892', u'1893', u'1895', u'1896', u'1897', u'1898', u'1899', u'18f', u'18m', u'18th', u'19', u'190', u'1900', u'1900s', u'1901', u'1903', u'1904', u'1905', u'1907', u'1908', u'1909', u'190th', u'191', u'1910', u'1910s', u'1911', u'1912', u'1913', u'1914', u'1915', u'1916', u'1917', u'1918', u'1919', u'191bn', u'192', u'1920', u'1920s', u'1921', u'1922', u'1923', u'1924', u'1925', u'1926', u'1927', u'1928', u'1929', u'193', u'1930', u'1930s', u'1931', u'1932', u'1933', u'1934', u'1935', u'1936', u'1937', u'1938', u'1939', u'194', u'1940', u'1940s', u'1941', u'1942', u'1943', u'1944', u'1945', u'1946', u'1947', u'1948', u'1949', u'195', u'1950', u'1950s', u'1951', u'1952', u'1953', u'1954', u'1955', u'1956', u'1957', u'1958', u'19580395003', u'19580405001', u'1959', u'196', u'1960', u'1960s', u'1961', u'19617315012', u'1962', u'1963', u'1964', u'1965', u'1966', u'1967', u'1968', u'1969', u'197', u'1970', u'1970s', u'1971', u'1972', u'1973', u'1974', u'1975', u'1976', u'1977', u'1978', u'1979', u'1980', u'1980s', u'1981', u'1982', u'1983', u'1984', u'1985', u'1986', u'1987', u'1988', u'1989', u'198974609375', u'199', u'1990', u'1990s', u'1991', u'1992', u'1993', u'1994', u'1995', u'1996', u'1997', u'1998', u'1999', u'19th', u'1_2', u'1alvwe4bralkh', u'1b', u'1b1', u'1bbswheiehlqifxzus3j35', u'1billion', u'1bjxt3uhim5fqn93gb0hkxakuarz99d7xcitzftye', u'1bs', u'1huziqim53', u'1hztlj', u'1is9krdfnysv0buhf8elizydmsrpwn944flw1tofjw46j4uaxsbrbp284wifmv8n', u'1jquvafupk', u'1k', u'1m', u'1m08s', u'1mdb', u'1mgfbvy', u'1million', u'1mm', u'1mwvcarc3jsuon8rrxype4espweqzd6zsrbhgh4uqf56pcft2ubnqku4wtgoecsw', u'1o6qorkewr', u'1oo', u'1oth', u'1oxutnexun', u'1st', u'1tn', u'1tr', u'1wrwsaijjsohk5rzj', u'1z', u'20', u'200', u'2000', u'2000s', u'2001', u'2002', u'2003', u'2004', u'2005', u'2006', u'2007', u'2008', u'2009', u'200k', u'200m', u'200x', u'201', u'2010', u'2010s', u'2011', u'2012', u'2012newstart', u'2013', u'2014', u'2015', u'20150308054059', u'2016', u'20161026_spain1', u'20161026_spain3', u'2016a', u'2016b', u'2016ers', u'2017', u'2018', u'2019', u'202', u'2020', u'2021', u'2022', u'2023', u'2024', u'2025', u'203', u'2030', u'2032', u'2033', u'2034', u'2035', u'2036', u'2040', u'2042', u'2043', u'2045', u'205', u'2050', u'20535', u'206', u'2064', u'207', u'2071', u'208', u'209', u'20am', u'20book', u'20gs', u'20k', u'20million', u'20p', u'20power', u'20s', u'20th', u'20tn', u'21', u'210', u'2100', u'2102', u'211', u'2110', u'2117', u'212', u'213', u'2130', u'214', u'2146815', u'2149237058061490', u'214r', u'215', u'216', u'217', u'218', u'219', u'21mn', u'21s', u'21st', u'21wire', u'22', u'220', u'2205', u'221', u'221day_m25', u'222', u'223', u'224', u'225', u'226', u'226t', u'227', u'227kg', u'228', u'229', u'22_1171', u'22am', u'22autoupdate', u'22basemap', u'22default', u'22event', u'22feed', u'22grayscale', u'22list', u'22listformat', u'22m', u'22m3', u'22map', u'22mapposition', u'22nd', u'22newest', u'22overlays', u'22plates', u'22restrictlisttomap', u'22search', u'22sort', u'22th', u'22timezone', u'22us1000778i', u'22utc', u'22viewmodes', u'23', u'230', u'231', u'232', u'233', u'234', u'2344', u'235', u'236', u'237', u'238', u'239', u'23k', u'23rd', u'24', u'240', u'241', u'242', u'243', u'244', u'24454002', u'244th', u'245', u'2450', u'246', u'247', u'2472', u'24888', u'249', u'24news', u'24th', u'25', u'250', u'25018606', u'250m', u'251', u'2510', u'252', u'253207', u'254', u'25421', u'2544', u'255', u'2552', u'256', u'257', u'25751119', u'258', u'25am', u'25m', u'25th', u'26', u'260', u'261', u'262', u'263', u'2635', u'264', u'265', u'2656002', u'267', u'2670', u'268', u'269', u'26t18', u'26th', u'27', u'270', u'2700', u'2700922', u'27026', u'2703', u'271', u'2711', u'27111', u'272', u'273', u'274', u'275', u'276', u'277', u'278', u'279', u'27th', u'28', u'280', u'281', u'282', u'283', u'284', u'28403', u'285', u'286', u'28657', u'287', u'288', u'289', u'28am', u'28th', u'29', u'290', u'2900', u'2900100001', u'291', u'292', u'293', u'29385', u'29385ote', u'294', u'295', u'2950100001', u'29549', u'296', u'298', u'29th', u'2a', u'2b', u'2bowles', u'2c', u'2ccrww3wqeay', u'2ckus9qi9g', u'2cs', u'2degrees', u'2f', u'2f102516_6', u'2f16', u'2fnews', u'2fpreventdisease', u'2gary2', u'2gkhtimovh', u'2hibftjxscml3k8k6mbdi8p9zvcmjsxbppcyrffw9a6t', u'2hzuvxyp8k', u'2k', u'2kkpwafd9pxaqnwjmpd4amk60l3n', u'2l', u'2m52s', u'2nd', u'2o16', u'2paragraphs', u'2percent', u'2plwa3cerym6byp60362co7cpzochyhsvgppzyh0qex', u'2s', u'2x', u'2yiugiyosv', u'2yxlvcf03qflflgzzfn7fcv5jw', u'2zksz3xesc7mmpgrzanh4pk1dlr', u'30', u'300', u'3000', u'3001', u'300k', u'300kg', u'301', u'302', u'3037', u'304', u'305', u'306', u'307', u'308', u'309', u'309533', u'30am', u'30grams', u'30k', u'30mki', u'30p', u'30pm', u'30s', u'30sm', u'30th', u'31', u'310', u'312', u'313', u'314', u'315', u'316', u'317', u'31715', u'31721', u'318', u'319', u'31am', u'31s', u'31st', u'31yrs', u'32', u'320', u'321', u'3222705', u'3225440', u'323', u'324', u'325', u'326', u'328', u'32833', u'329', u'32937', u'32nd', u'33', u'330', u'33010', u'330m', u'331', u'33127', u'332', u'333', u'334', u'334m', u'33552', u'336', u'33656002', u'337', u'3370', u'33713', u'33722', u'33739', u'338', u'339', u'33k', u'33rd', u'33s', u'33yo', u'34', u'340', u'34000', u'342', u'343', u'344', u'345', u'3454', u'346', u'347', u'348', u'349', u'34th', u'35', u'350', u'3500']\n"
     ]
    },
    {
     "name": "stdout",
     "output_type": "stream",
     "text": [
      "[[0 0 0 ... 0 0 0]\n",
      " [0 0 0 ... 0 0 0]\n",
      " [0 0 0 ... 0 0 0]\n",
      " ...\n",
      " [0 0 0 ... 0 0 0]\n",
      " [0 0 0 ... 0 0 0]\n",
      " [0 0 0 ... 0 0 0]]\n"
     ]
    }
   ],
   "source": [
    "\n",
    "\n",
    "#print(df.head())\n",
    "\n",
    "\n",
    "y = df.label\n",
    "#print(y)\n",
    "\n",
    "\n",
    "X_train, X_test, y_train, y_test = train_test_split(df[\"text\"],y,test_size=0.33,\n",
    "                                    random_state=53)\n",
    "\n",
    "\n",
    "count_vectorizer = CountVectorizer(stop_words=\"english\")\n",
    "\n",
    "\n",
    "count_train = count_vectorizer.fit_transform(X_train.values)\n",
    "\n",
    "\n",
    "count_test = count_vectorizer.transform(X_test.values)\n",
    "\n",
    "\n",
    "print(count_vectorizer.get_feature_names()[:1000])\n",
    "print(count_train.toarray())"
   ]
  },
  {
   "cell_type": "code",
   "execution_count": 39,
   "metadata": {},
   "outputs": [
    {
     "name": "stdout",
     "output_type": "stream",
     "text": [
      "  (1, 0)\t1\n",
      "[array([], dtype='<U6'), array([u'second'], dtype='<U6')]\n",
      "[u'second']\n"
     ]
    }
   ],
   "source": [
    "corpus = [\n",
    "    'This is the first.',\n",
    "   'This is the second.'\n",
    " ]\n",
    "v = count_vectorizer.fit_transform(corpus)\n",
    "print(v) \n",
    "print(count_vectorizer.inverse_transform(v))\n",
    "print(count_vectorizer.get_feature_names())"
   ]
  },
  {
   "cell_type": "code",
   "execution_count": 18,
   "metadata": {},
   "outputs": [
    {
     "name": "stdout",
     "output_type": "stream",
     "text": [
      "[u'00', u'000', u'0000', u'00000031', u'000035', u'00006', u'0001', u'0001pt', u'000ft', u'000km']\n",
      "[[0. 0. 0. ... 0. 0. 0.]\n",
      " [0. 0. 0. ... 0. 0. 0.]\n",
      " [0. 0. 0. ... 0. 0. 0.]\n",
      " [0. 0. 0. ... 0. 0. 0.]\n",
      " [0. 0. 0. ... 0. 0. 0.]]\n"
     ]
    }
   ],
   "source": [
    "\n",
    "from sklearn.feature_extraction.text import TfidfVectorizer\n",
    "\n",
    "\n",
    "tfidf_vectorizer = TfidfVectorizer(stop_words=\"english\",max_df=0.7)\n",
    "\n",
    "\n",
    "tfidf_train = tfidf_vectorizer.fit_transform(X_train.values)\n",
    "\n",
    "\n",
    "tfidf_test = tfidf_vectorizer.transform(X_test.values)\n",
    "\n",
    "\n",
    "print(tfidf_vectorizer.get_feature_names()[:10])\n",
    "\n",
    "\n",
    "print(tfidf_train.A[:5])\n"
   ]
  },
  {
   "cell_type": "code",
   "execution_count": 19,
   "metadata": {},
   "outputs": [
    {
     "name": "stdout",
     "output_type": "stream",
     "text": [
      "      00  000  0000  00000031  000035  00006  0001  0001pt  000ft  000km  \\\n",
      "0      0    0     0         0       0      0     0       0      0      0   \n",
      "1      0    0     0         0       0      0     0       0      0      0   \n",
      "2      0    0     0         0       0      0     0       0      0      0   \n",
      "3      0    0     0         0       0      0     0       0      0      0   \n",
      "4      0    0     0         0       0      0     0       0      0      0   \n",
      "5      0    1     0         0       0      0     0       0      0      0   \n",
      "6      0    0     0         0       0      0     0       0      0      0   \n",
      "7      0    0     0         0       0      0     0       0      0      0   \n",
      "8      0    1     0         0       0      0     0       0      0      0   \n",
      "9      0    1     0         0       0      0     0       0      0      0   \n",
      "10     0    0     0         0       0      0     0       0      0      0   \n",
      "11     0    0     0         0       0      0     0       0      0      0   \n",
      "12     0    0     0         0       0      0     0       0      0      0   \n",
      "13     0    0     0         0       0      0     0       0      0      0   \n",
      "14     1    0     0         0       0      0     0       0      0      0   \n",
      "15     0    0     0         0       0      0     0       0      0      0   \n",
      "16     0    0     0         0       0      0     0       0      0      0   \n",
      "17     0    0     0         0       0      0     0       0      0      0   \n",
      "18     0    0     0         0       0      0     0       0      0      0   \n",
      "19     0    0     0         0       0      0     0       0      0      0   \n",
      "20     0    1     0         0       0      0     0       0      0      0   \n",
      "21     0    0     0         0       0      0     0       0      0      0   \n",
      "22     0    0     0         0       0      0     0       0      0      0   \n",
      "23     0    3     0         0       0      0     0       0      0      0   \n",
      "24     0    2     0         0       0      0     0       0      0      0   \n",
      "25     0    0     0         0       0      0     0       0      0      0   \n",
      "26     0    0     0         0       0      0     0       0      0      0   \n",
      "27     0    2     0         0       0      0     0       0      0      0   \n",
      "28     0    0     0         0       0      0     0       0      0      0   \n",
      "29     0    6     0         0       0      0     0       0      0      0   \n",
      "...   ..  ...   ...       ...     ...    ...   ...     ...    ...    ...   \n",
      "4214   0    0     0         0       0      0     0       0      0      0   \n",
      "4215   0    0     0         0       0      0     0       0      0      0   \n",
      "4216   0    0     0         0       0      0     0       0      0      0   \n",
      "4217   0    1     0         0       0      0     0       0      0      0   \n",
      "4218   0    0     0         0       0      0     0       0      0      0   \n",
      "4219   0    4     0         0       0      0     0       0      0      0   \n",
      "4220   0    0     0         0       0      0     0       0      0      0   \n",
      "4221   0    0     0         0       0      0     0       0      0      0   \n",
      "4222   0    0     0         0       0      0     0       0      0      0   \n",
      "4223   0    1     0         0       0      0     0       0      0      0   \n",
      "4224   0    0     0         0       0      0     0       0      0      0   \n",
      "4225   0    0     0         0       0      0     0       0      0      0   \n",
      "4226   0    0     0         0       0      0     0       0      0      0   \n",
      "4227   0    5     0         0       0      0     0       0      0      0   \n",
      "4228   0    0     0         0       0      0     0       0      0      0   \n",
      "4229   0    0     0         0       0      0     0       0      0      0   \n",
      "4230   0    0     0         0       0      0     0       0      0      0   \n",
      "4231   0    0     0         0       0      0     0       0      0      0   \n",
      "4232   0    0     0         0       0      0     0       0      0      0   \n",
      "4233   0    0     0         0       0      0     0       0      0      0   \n",
      "4234   0    0     0         0       0      0     0       0      0      0   \n",
      "4235   0    0     0         0       0      0     0       0      0      0   \n",
      "4236   0    0     0         0       0      0     0       0      0      0   \n",
      "4237   0    0     0         0       0      0     0       0      0      0   \n",
      "4238   2    0     0         0       0      0     0       0      0      0   \n",
      "4239   0    1     0         0       0      0     0       0      0      0   \n",
      "4240   0    0     0         0       0      0     0       0      0      0   \n",
      "4241   0    0     0         0       0      0     0       0      0      0   \n",
      "4242   0    0     0         0       0      0     0       0      0      0   \n",
      "4243   0    0     0         0       0      0     0       0      0      0   \n",
      "\n",
      "      ...    حلب  عربي  عن  لم  ما  محاولات  من  هذا  والمرضى  ยงade  \n",
      "0     ...      0     0   0   0   0        0   0    0        0      0  \n",
      "1     ...      0     0   0   0   0        0   0    0        0      0  \n",
      "2     ...      0     0   0   0   0        0   0    0        0      0  \n",
      "3     ...      0     0   0   0   0        0   0    0        0      0  \n",
      "4     ...      0     0   0   0   0        0   0    0        0      0  \n",
      "5     ...      0     0   0   0   0        0   0    0        0      0  \n",
      "6     ...      0     0   0   0   0        0   0    0        0      0  \n",
      "7     ...      0     0   0   0   0        0   0    0        0      0  \n",
      "8     ...      0     0   0   0   0        0   0    0        0      0  \n",
      "9     ...      0     0   0   0   0        0   0    0        0      0  \n",
      "10    ...      0     0   0   0   0        0   0    0        0      0  \n",
      "11    ...      0     0   0   0   0        0   0    0        0      0  \n",
      "12    ...      0     0   0   0   0        0   0    0        0      0  \n",
      "13    ...      0     0   0   0   0        0   0    0        0      0  \n",
      "14    ...      0     0   0   0   0        0   0    0        0      0  \n",
      "15    ...      0     0   0   0   0        0   0    0        0      0  \n",
      "16    ...      0     0   0   0   0        0   0    0        0      0  \n",
      "17    ...      0     0   0   0   0        0   0    0        0      0  \n",
      "18    ...      0     0   0   0   0        0   0    0        0      0  \n",
      "19    ...      0     0   0   0   0        0   0    0        0      0  \n",
      "20    ...      0     0   0   0   0        0   0    0        0      0  \n",
      "21    ...      0     0   0   0   0        0   0    0        0      0  \n",
      "22    ...      0     0   0   0   0        0   0    0        0      0  \n",
      "23    ...      0     0   0   0   0        0   0    0        0      0  \n",
      "24    ...      0     0   0   0   0        0   0    0        0      0  \n",
      "25    ...      0     0   0   0   0        0   0    0        0      0  \n",
      "26    ...      0     0   0   0   0        0   0    0        0      0  \n",
      "27    ...      0     0   0   0   0        0   0    0        0      0  \n",
      "28    ...      0     0   0   0   0        0   0    0        0      0  \n",
      "29    ...      0     0   0   0   0        0   0    0        0      0  \n",
      "...   ...    ...   ...  ..  ..  ..      ...  ..  ...      ...    ...  \n",
      "4214  ...      0     0   0   0   0        0   0    0        0      0  \n",
      "4215  ...      0     0   0   0   0        0   0    0        0      0  \n",
      "4216  ...      0     0   0   0   0        0   0    0        0      0  \n",
      "4217  ...      0     0   0   0   0        0   0    0        0      0  \n",
      "4218  ...      0     0   0   0   0        0   0    0        0      0  \n",
      "4219  ...      0     0   0   0   0        0   0    0        0      0  \n",
      "4220  ...      0     0   0   0   0        0   0    0        0      0  \n",
      "4221  ...      0     0   0   0   0        0   0    0        0      0  \n",
      "4222  ...      0     0   0   0   0        0   0    0        0      0  \n",
      "4223  ...      0     0   0   0   0        0   0    0        0      0  \n",
      "4224  ...      0     0   0   0   0        0   0    0        0      0  \n",
      "4225  ...      0     0   0   0   0        0   0    0        0      0  \n",
      "4226  ...      0     0   0   0   0        0   0    0        0      0  \n",
      "4227  ...      0     0   0   0   0        0   0    0        0      0  \n",
      "4228  ...      0     0   0   0   0        0   0    0        0      0  \n",
      "4229  ...      0     0   0   0   0        0   0    0        0      0  \n",
      "4230  ...      0     0   0   0   0        0   0    0        0      0  \n",
      "4231  ...      0     0   0   0   0        0   0    0        0      0  \n",
      "4232  ...      0     0   0   0   0        0   0    0        0      0  \n",
      "4233  ...      0     0   0   0   0        0   0    0        0      0  \n",
      "4234  ...      0     0   0   0   0        0   0    0        0      0  \n",
      "4235  ...      0     0   0   0   0        0   0    0        0      0  \n",
      "4236  ...      0     0   0   0   0        0   0    0        0      0  \n",
      "4237  ...      0     0   0   0   0        0   0    0        0      0  \n",
      "4238  ...      0     0   0   0   0        0   0    0        0      0  \n",
      "4239  ...      0     0   0   0   0        0   0    0        0      0  \n",
      "4240  ...      0     0   0   0   0        0   0    0        0      0  \n",
      "4241  ...      0     0   0   0   0        0   0    0        0      0  \n",
      "4242  ...      0     0   0   0   0        0   0    0        0      0  \n",
      "4243  ...      0     0   0   0   0        0   0    0        0      0  \n",
      "\n",
      "[4244 rows x 56922 columns]\n"
     ]
    },
    {
     "name": "stdout",
     "output_type": "stream",
     "text": [
      "   00  000  0000  00000031  000035  00006  0001  0001pt  000ft  000km  ...    \\\n",
      "0   0    0     0         0       0      0     0       0      0      0  ...     \n",
      "1   0    0     0         0       0      0     0       0      0      0  ...     \n",
      "2   0    0     0         0       0      0     0       0      0      0  ...     \n",
      "3   0    0     0         0       0      0     0       0      0      0  ...     \n",
      "4   0    0     0         0       0      0     0       0      0      0  ...     \n",
      "\n",
      "   حلب  عربي  عن  لم  ما  محاولات  من  هذا  والمرضى  ยงade  \n",
      "0    0     0   0   0   0        0   0    0        0      0  \n",
      "1    0     0   0   0   0        0   0    0        0      0  \n",
      "2    0     0   0   0   0        0   0    0        0      0  \n",
      "3    0     0   0   0   0        0   0    0        0      0  \n",
      "4    0     0   0   0   0        0   0    0        0      0  \n",
      "\n",
      "[5 rows x 56922 columns]\n",
      "    00  000  0000  00000031  000035  00006  0001  0001pt  000ft  000km  ...    \\\n",
      "0  0.0  0.0   0.0       0.0     0.0    0.0   0.0     0.0    0.0    0.0  ...     \n",
      "1  0.0  0.0   0.0       0.0     0.0    0.0   0.0     0.0    0.0    0.0  ...     \n",
      "2  0.0  0.0   0.0       0.0     0.0    0.0   0.0     0.0    0.0    0.0  ...     \n",
      "3  0.0  0.0   0.0       0.0     0.0    0.0   0.0     0.0    0.0    0.0  ...     \n",
      "4  0.0  0.0   0.0       0.0     0.0    0.0   0.0     0.0    0.0    0.0  ...     \n",
      "\n",
      "   حلب  عربي   عن   لم   ما  محاولات   من  هذا  والمرضى  ยงade  \n",
      "0  0.0   0.0  0.0  0.0  0.0      0.0  0.0  0.0      0.0    0.0  \n",
      "1  0.0   0.0  0.0  0.0  0.0      0.0  0.0  0.0      0.0    0.0  \n",
      "2  0.0   0.0  0.0  0.0  0.0      0.0  0.0  0.0      0.0    0.0  \n",
      "3  0.0   0.0  0.0  0.0  0.0      0.0  0.0  0.0      0.0    0.0  \n",
      "4  0.0   0.0  0.0  0.0  0.0      0.0  0.0  0.0      0.0    0.0  \n",
      "\n",
      "[5 rows x 56922 columns]\n",
      "set([])\n",
      "False\n"
     ]
    }
   ],
   "source": [
    "count_df = pd.DataFrame(count_train.A, columns=count_vectorizer.get_feature_names())\n",
    "print(count_df)\n",
    "\n",
    "\n",
    "tfidf_df = pd.DataFrame(tfidf_train.A, columns=tfidf_vectorizer.get_feature_names())\n",
    "\n",
    "\n",
    "print(count_df.head())\n",
    "\n",
    "\n",
    "print(tfidf_df.head())\n",
    "\n",
    "\n",
    "difference = set(count_df.columns) - set(tfidf_df.columns)\n",
    "print(difference)\n",
    "\n",
    "\n",
    "print(count_df.equals(tfidf_df))\n"
   ]
  },
  {
   "cell_type": "code",
   "execution_count": null,
   "metadata": {},
   "outputs": [],
   "source": [
    "\n"
   ]
  },
  {
   "cell_type": "code",
   "execution_count": 20,
   "metadata": {},
   "outputs": [
    {
     "name": "stdout",
     "output_type": "stream",
     "text": [
      "0.893352462936394\n",
      "[[ 865  143]\n",
      " [  80 1003]]\n"
     ]
    }
   ],
   "source": [
    "\n",
    "from sklearn.naive_bayes import MultinomialNB\n",
    "from sklearn import metrics\n",
    "\n",
    "\n",
    "nb_classifier = MultinomialNB()\n",
    "\n",
    "\n",
    "nb_classifier.fit(count_train, y_train)\n",
    "\n",
    "\n",
    "pred =nb_classifier.predict(count_test)\n",
    "\n",
    "\n",
    "score = metrics.accuracy_score(y_test, pred)\n",
    "print(score)\n",
    "\n",
    "\n",
    "cm = metrics.confusion_matrix(y_test, pred, labels=[\"FAKE\",\"REAL\"])\n",
    "print(cm)\n"
   ]
  },
  {
   "cell_type": "code",
   "execution_count": 21,
   "metadata": {},
   "outputs": [
    {
     "name": "stdout",
     "output_type": "stream",
     "text": [
      "0.8565279770444764\n",
      "[[ 739  269]\n",
      " [  31 1052]]\n"
     ]
    }
   ],
   "source": [
    "\n",
    "nb_classifier = MultinomialNB()\n",
    "\n",
    "\n",
    "nb_classifier.fit(tfidf_train, y_train)\n",
    "\n",
    "\n",
    "pred = nb_classifier.predict(tfidf_test)\n",
    "\n",
    "\n",
    "score = metrics.accuracy_score(y_test, pred)\n",
    "print(score)\n",
    "\n",
    "\n",
    "cm = metrics.confusion_matrix(y_test, pred, labels=['FAKE', 'REAL'])\n",
    "print(cm)\n"
   ]
  },
  {
   "cell_type": "code",
   "execution_count": 24,
   "metadata": {},
   "outputs": [
    {
     "name": "stdout",
     "output_type": "stream",
     "text": [
      "[0.  0.1 0.2 0.3 0.4 0.5 0.6 0.7 0.8 0.9]\n",
      "('Alpha: ', 0.0)\n",
      "('Score: ', 0.8813964610234337)\n",
      "()\n",
      "('Alpha: ', 0.1)\n",
      "('Score: ', 0.8976566236250598)\n",
      "()\n",
      "('Alpha: ', 0.2)\n",
      "('Score: ', 0.8938307030129125)\n",
      "()\n",
      "('Alpha: ', 0.30000000000000004)\n",
      "('Score: ', 0.8900047824007652)\n",
      "()\n",
      "('Alpha: ', 0.4)\n",
      "('Score: ', 0.8857006217120995)\n",
      "()\n",
      "('Alpha: ', 0.5)\n",
      "('Score: ', 0.8842659014825442)\n",
      "()\n",
      "('Alpha: ', 0.6000000000000001)\n",
      "('Score: ', 0.874701099952176)\n",
      "()\n",
      "('Alpha: ', 0.7000000000000001)\n",
      "('Score: ', 0.8703969392635102)\n",
      "()\n",
      "('Alpha: ', 0.8)\n",
      "('Score: ', 0.8660927785748446)\n",
      "()\n",
      "('Alpha: ', 0.9)\n",
      "('Score: ', 0.8589191774270684)\n",
      "()\n"
     ]
    }
   ],
   "source": [
    "alphas = np.arange(0, 1, .1)\n",
    "print(alphas)\n",
    "\n",
    "def train_and_predict(alpha):\n",
    "    \n",
    "    nb_classifier = MultinomialNB(alpha=alpha)\n",
    "    \n",
    "    nb_classifier.fit(tfidf_train, y_train)\n",
    "   \n",
    "    pred = nb_classifier.predict(tfidf_test)\n",
    "    \n",
    "    score = metrics.accuracy_score(y_test, pred)\n",
    "    return score\n",
    "\n",
    "\n",
    "for alpha in alphas:\n",
    "    print('Alpha: ', alpha)\n",
    "    print('Score: ', train_and_predict(alpha))\n",
    "    print()\n",
    "    "
   ]
  },
  {
   "cell_type": "code",
   "execution_count": 23,
   "metadata": {},
   "outputs": [
    {
     "name": "stdout",
     "output_type": "stream",
     "text": [
      "('FAKE', [(-11.316312804238807, u'0000'), (-11.316312804238807, u'000035'), (-11.316312804238807, u'0001'), (-11.316312804238807, u'0001pt'), (-11.316312804238807, u'000km'), (-11.316312804238807, u'0011'), (-11.316312804238807, u'006s'), (-11.316312804238807, u'007'), (-11.316312804238807, u'007s'), (-11.316312804238807, u'008s'), (-11.316312804238807, u'0099'), (-11.316312804238807, u'00am'), (-11.316312804238807, u'00p'), (-11.316312804238807, u'00pm'), (-11.316312804238807, u'014'), (-11.316312804238807, u'015'), (-11.316312804238807, u'018'), (-11.316312804238807, u'01am'), (-11.316312804238807, u'020'), (-11.316312804238807, u'023')])\n",
      "('REAL', [(-7.742481952533027, u'states'), (-7.717550034444668, u'rubio'), (-7.703583809227384, u'voters'), (-7.654774992495461, u'house'), (-7.649398936153309, u'republicans'), (-7.6246184189367, u'bush'), (-7.616556675728882, u'percent'), (-7.545789237823644, u'people'), (-7.516447881078008, u'new'), (-7.448027933291952, u'party'), (-7.4111484102034755, u'cruz'), (-7.410910239085596, u'state'), (-7.35748985914622, u'republican'), (-7.33649923948987, u'campaign'), (-7.2854057032685775, u'president'), (-7.2166878130917755, u'sanders'), (-7.108263114902301, u'obama'), (-6.72477133248804, u'clinton'), (-6.565395438992684, u'said'), (-6.328486029596207, u'trump')])\n"
     ]
    }
   ],
   "source": [
    "\n",
    "class_labels = nb_classifier.classes_\n",
    "\n",
    "\n",
    "feature_names = tfidf_vectorizer.get_feature_names()\n",
    "\n",
    "\n",
    "feat_with_weights = sorted(zip(nb_classifier.coef_[0], feature_names))\n",
    "\n",
    "\n",
    "print(class_labels[0], feat_with_weights[:20])\n",
    "\n",
    "\n",
    "print(class_labels[1], feat_with_weights[-20:])\n"
   ]
  },
  {
   "cell_type": "code",
   "execution_count": null,
   "metadata": {},
   "outputs": [],
   "source": []
  },
  {
   "cell_type": "code",
   "execution_count": null,
   "metadata": {},
   "outputs": [],
   "source": []
  }
 ],
 "metadata": {
  "kernelspec": {
   "display_name": "Python 2",
   "language": "python",
   "name": "python2"
  },
  "language_info": {
   "codemirror_mode": {
    "name": "ipython",
    "version": 2
   },
   "file_extension": ".py",
   "mimetype": "text/x-python",
   "name": "python",
   "nbconvert_exporter": "python",
   "pygments_lexer": "ipython2",
   "version": "2.7.15"
  }
 },
 "nbformat": 4,
 "nbformat_minor": 2
}
